{
 "cells": [
  {
   "cell_type": "code",
   "execution_count": 1,
   "metadata": {},
   "outputs": [
    {
     "name": "stderr",
     "output_type": "stream",
     "text": [
      "24/09/05 19:04:46 WARN Utils: Your hostname, zenlo resolves to a loopback address: 127.0.1.1, but we couldn't find any external IP address!\n",
      "24/09/05 19:04:46 WARN Utils: Set SPARK_LOCAL_IP if you need to bind to another address\n",
      "Setting default log level to \"WARN\".\n",
      "To adjust logging level use sc.setLogLevel(newLevel). For SparkR, use setLogLevel(newLevel).\n",
      "24/09/05 19:04:47 WARN NativeCodeLoader: Unable to load native-hadoop library for your platform... using builtin-java classes where applicable\n",
      "24/09/05 19:04:47 WARN MacAddressUtil: Failed to find a usable hardware address from the network interfaces; using random bytes: 8f:01:5a:5f:c8:2c:4c:44\n",
      "24/09/05 19:04:47 WARN Utils: Service 'SparkUI' could not bind on port 4040. Attempting port 4041.\n",
      "24/09/05 19:04:47 WARN Utils: Service 'SparkUI' could not bind on port 4041. Attempting port 4042.\n"
     ]
    }
   ],
   "source": [
    "import findspark\n",
    "findspark.init(\"/opt/spark\")\n",
    "\n",
    "from pyspark.sql import SparkSession \n",
    "\n",
    "spark = (\n",
    "    SparkSession\n",
    "        .builder\n",
    "        .master('local[4]') \n",
    "        .appName('mi_app')\n",
    "        .getOrCreate()\n",
    ")"
   ]
  },
  {
   "cell_type": "code",
   "execution_count": 3,
   "metadata": {},
   "outputs": [
    {
     "name": "stdout",
     "output_type": "stream",
     "text": [
      "+---+\n",
      "|num|\n",
      "+---+\n",
      "|  0|\n",
      "|  1|\n",
      "|  2|\n",
      "|  3|\n",
      "|  4|\n",
      "+---+\n",
      "\n"
     ]
    }
   ],
   "source": [
    "df = spark.range(5).toDF('num')\n",
    "df.show()"
   ]
  },
  {
   "cell_type": "code",
   "execution_count": 5,
   "metadata": {},
   "outputs": [
    {
     "data": {
      "text/plain": [
       "64"
      ]
     },
     "execution_count": 5,
     "metadata": {},
     "output_type": "execute_result"
    }
   ],
   "source": [
    "# 1. defino funcion\n",
    "def power3(double_val):\n",
    "    return double_val**3\n",
    "\n",
    "power3(4)"
   ]
  },
  {
   "cell_type": "code",
   "execution_count": 22,
   "metadata": {},
   "outputs": [
    {
     "name": "stderr",
     "output_type": "stream",
     "text": [
      "24/09/05 19:39:04 WARN SimpleFunctionRegistry: The function power3udf_beta replaced a previously registered function.\n"
     ]
    },
    {
     "data": {
      "text/plain": [
       "<function __main__.power3(double_val)>"
      ]
     },
     "execution_count": 22,
     "metadata": {},
     "output_type": "execute_result"
    }
   ],
   "source": [
    "# 2. registro function\n",
    "from pyspark.sql import functions as F\n",
    "from pyspark.sql.types import DoubleType, IntegerType\n",
    "\n",
    "# esto registra la función, como dataframe function. Si se quiere ejecutar como SQL function dara error.\n",
    "power3udf = F.udf(power3)\n",
    "\n",
    "# esto registra como SQL function. Como la función devuelve int, el tipo causa que la devolucion sea NULL\n",
    "spark.udf.register('power3udf_beta', power3, DoubleType())\n",
    "# en este caso es el tipo correcto\n",
    "spark.udf.register('power3udf_gamma', power3, IntegerType())"
   ]
  },
  {
   "cell_type": "code",
   "execution_count": 25,
   "metadata": {},
   "outputs": [
    {
     "name": "stdout",
     "output_type": "stream",
     "text": [
      "+---+---+-------------------+--------------------+\n",
      "|num|new|power3udf_beta(num)|power3udf_gamma(num)|\n",
      "+---+---+-------------------+--------------------+\n",
      "|  0|  0|               NULL|                   0|\n",
      "|  1|  1|               NULL|                   1|\n",
      "|  2|  8|               NULL|                   8|\n",
      "|  3| 27|               NULL|                  27|\n",
      "|  4| 64|               NULL|                  64|\n",
      "+---+---+-------------------+--------------------+\n",
      "\n"
     ]
    }
   ],
   "source": [
    "# 3. utilizo\n",
    "(\n",
    "    df\n",
    "    .withColumn('new', power3udf(F.col('num')))\n",
    "    .selectExpr(\"num\", \"new\", \"power3udf_beta(num)\", \"power3udf_gamma(num)\")\n",
    "    .show(5)\n",
    ")"
   ]
  },
  {
   "cell_type": "code",
   "execution_count": null,
   "metadata": {},
   "outputs": [],
   "source": []
  }
 ],
 "metadata": {
  "kernelspec": {
   "display_name": "venv",
   "language": "python",
   "name": "python3"
  },
  "language_info": {
   "codemirror_mode": {
    "name": "ipython",
    "version": 3
   },
   "file_extension": ".py",
   "mimetype": "text/x-python",
   "name": "python",
   "nbconvert_exporter": "python",
   "pygments_lexer": "ipython3",
   "version": "3.10.12"
  }
 },
 "nbformat": 4,
 "nbformat_minor": 2
}
