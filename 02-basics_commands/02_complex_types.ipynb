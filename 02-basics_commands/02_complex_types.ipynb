{
 "cells": [
  {
   "cell_type": "code",
   "execution_count": 1,
   "metadata": {},
   "outputs": [],
   "source": [
    "import findspark\n",
    "findspark.init(\"/opt/spark\")\n",
    "\n",
    "from pyspark.sql import SparkSession "
   ]
  },
  {
   "cell_type": "code",
   "execution_count": 2,
   "metadata": {},
   "outputs": [
    {
     "name": "stderr",
     "output_type": "stream",
     "text": [
      "24/09/05 18:15:25 WARN Utils: Your hostname, zenlo resolves to a loopback address: 127.0.1.1, but we couldn't find any external IP address!\n",
      "24/09/05 18:15:25 WARN Utils: Set SPARK_LOCAL_IP if you need to bind to another address\n",
      "Setting default log level to \"WARN\".\n",
      "To adjust logging level use sc.setLogLevel(newLevel). For SparkR, use setLogLevel(newLevel).\n",
      "24/09/05 18:15:26 WARN NativeCodeLoader: Unable to load native-hadoop library for your platform... using builtin-java classes where applicable\n",
      "24/09/05 18:15:26 WARN MacAddressUtil: Failed to find a usable hardware address from the network interfaces; using random bytes: 28:87:80:ea:ef:88:74:0b\n"
     ]
    }
   ],
   "source": [
    "spark = (\n",
    "    SparkSession\n",
    "        .builder\n",
    "        .master('local[4]') \n",
    "        .appName('mi_app')\n",
    "        .getOrCreate()\n",
    ")"
   ]
  },
  {
   "cell_type": "code",
   "execution_count": 3,
   "metadata": {},
   "outputs": [
    {
     "name": "stderr",
     "output_type": "stream",
     "text": [
      "                                                                                \r"
     ]
    }
   ],
   "source": [
    "df = spark.read.format('json').load('/home/gonzalo/Documents/notes/notes-spark/data/flight-data/json/2015-summary.json')"
   ]
  },
  {
   "cell_type": "code",
   "execution_count": 4,
   "metadata": {},
   "outputs": [
    {
     "name": "stdout",
     "output_type": "stream",
     "text": [
      "+-----------------+-------------------+-----+\n",
      "|DEST_COUNTRY_NAME|ORIGIN_COUNTRY_NAME|count|\n",
      "+-----------------+-------------------+-----+\n",
      "|    United States|            Romania|   15|\n",
      "|    United States|            Croatia|    1|\n",
      "+-----------------+-------------------+-----+\n",
      "only showing top 2 rows\n",
      "\n"
     ]
    }
   ],
   "source": [
    "df.show(2)"
   ]
  },
  {
   "cell_type": "code",
   "execution_count": 17,
   "metadata": {},
   "outputs": [
    {
     "name": "stdout",
     "output_type": "stream",
     "text": [
      "+-----------------+-------------------+-----+--------------------+---------+-------------+\n",
      "|DEST_COUNTRY_NAME|ORIGIN_COUNTRY_NAME|count|             complex|get_field|  get_field_2|\n",
      "+-----------------+-------------------+-----+--------------------+---------+-------------+\n",
      "|    United States|            Romania|   15|{United States, R...|  Romania|United States|\n",
      "|    United States|            Croatia|    1|{United States, C...|  Croatia|United States|\n",
      "+-----------------+-------------------+-----+--------------------+---------+-------------+\n",
      "only showing top 2 rows\n",
      "\n"
     ]
    }
   ],
   "source": [
    "# se define el tipo complex\n",
    "# se toma col desde un complex\n",
    "from pyspark.sql import functions as F\n",
    "\n",
    "complex = (\n",
    "    df\n",
    "    .withColumn('complex', F.struct('DEST_COUNTRY_NAME', 'ORIGIN_COUNTRY_NAME'))\n",
    "    .withColumn('get_field', F.col('complex').getField('ORIGIN_COUNTRY_NAME'))\n",
    "    .withColumn('get_field_2', F.col('complex.DEST_COUNTRY_NAME'))\n",
    "    #.withColumn('get_field_3', F.col('complex.*'))\n",
    ")\n",
    "\n",
    "complex.show(2)"
   ]
  },
  {
   "cell_type": "code",
   "execution_count": 18,
   "metadata": {},
   "outputs": [
    {
     "name": "stdout",
     "output_type": "stream",
     "text": [
      "root\n",
      " |-- DEST_COUNTRY_NAME: string (nullable = true)\n",
      " |-- ORIGIN_COUNTRY_NAME: string (nullable = true)\n",
      " |-- count: long (nullable = true)\n",
      " |-- complex: struct (nullable = false)\n",
      " |    |-- DEST_COUNTRY_NAME: string (nullable = true)\n",
      " |    |-- ORIGIN_COUNTRY_NAME: string (nullable = true)\n",
      " |-- get_field: string (nullable = true)\n",
      " |-- get_field_2: string (nullable = true)\n",
      "\n"
     ]
    }
   ],
   "source": [
    "complex.printSchema()"
   ]
  },
  {
   "cell_type": "code",
   "execution_count": 19,
   "metadata": {},
   "outputs": [
    {
     "name": "stdout",
     "output_type": "stream",
     "text": [
      "+-----------------+-------------------+\n",
      "|DEST_COUNTRY_NAME|ORIGIN_COUNTRY_NAME|\n",
      "+-----------------+-------------------+\n",
      "|    United States|            Romania|\n",
      "|    United States|            Croatia|\n",
      "+-----------------+-------------------+\n",
      "only showing top 2 rows\n",
      "\n"
     ]
    }
   ],
   "source": [
    "# This brings up all the columns to the top-level df.\n",
    "\n",
    "complex = (\n",
    "    df\n",
    "    .withColumn('complex', F.struct('DEST_COUNTRY_NAME', 'ORIGIN_COUNTRY_NAME'))\n",
    "    .select('complex.*')\n",
    ")\n",
    "\n",
    "complex.show(2)"
   ]
  },
  {
   "cell_type": "code",
   "execution_count": 27,
   "metadata": {},
   "outputs": [
    {
     "name": "stdout",
     "output_type": "stream",
     "text": [
      "+-----------------+-------------------+-----+----------------+---------+--------+--------------+\n",
      "|DEST_COUNTRY_NAME|ORIGIN_COUNTRY_NAME|count|        splitted|get_items|get_size|array_contains|\n",
      "+-----------------+-------------------+-----+----------------+---------+--------+--------------+\n",
      "|    United States|            Romania|   15|[United, States]|   States|       2|          true|\n",
      "|    United States|            Croatia|    1|[United, States]|   States|       2|          true|\n",
      "+-----------------+-------------------+-----+----------------+---------+--------+--------------+\n",
      "only showing top 2 rows\n",
      "\n"
     ]
    }
   ],
   "source": [
    "# This give us an array type\n",
    "# A way to get item from the array\n",
    "\n",
    "\n",
    "my_array = (\n",
    "    df\n",
    "    .withColumn('splitted', F.split(F.col('DEST_COUNTRY_NAME'), ' '))\n",
    "    .withColumn('get_items', F.col('splitted').getItem(1))\n",
    "    .withColumn('get_size', F.array_size(F.col('splitted')))\n",
    "    .withColumn('array_contains', F.array_contains(F.col('splitted'), 'United'))\n",
    ")\n",
    "\n",
    "my_array.show(2)"
   ]
  },
  {
   "cell_type": "code",
   "execution_count": 28,
   "metadata": {},
   "outputs": [
    {
     "name": "stdout",
     "output_type": "stream",
     "text": [
      "root\n",
      " |-- DEST_COUNTRY_NAME: string (nullable = true)\n",
      " |-- ORIGIN_COUNTRY_NAME: string (nullable = true)\n",
      " |-- count: long (nullable = true)\n",
      " |-- splitted: array (nullable = true)\n",
      " |    |-- element: string (containsNull = false)\n",
      " |-- get_items: string (nullable = true)\n",
      " |-- get_size: integer (nullable = true)\n",
      " |-- array_contains: boolean (nullable = true)\n",
      "\n"
     ]
    }
   ],
   "source": [
    "my_array.printSchema()"
   ]
  },
  {
   "cell_type": "code",
   "execution_count": 31,
   "metadata": {},
   "outputs": [
    {
     "name": "stdout",
     "output_type": "stream",
     "text": [
      "+-----------------+-------------------+-----+--------------------+\n",
      "|DEST_COUNTRY_NAME|ORIGIN_COUNTRY_NAME|count|          create_map|\n",
      "+-----------------+-------------------+-----+--------------------+\n",
      "|    United States|            Romania|   15|{United States ->...|\n",
      "|    United States|            Croatia|    1|{United States -> 1}|\n",
      "+-----------------+-------------------+-----+--------------------+\n",
      "only showing top 2 rows\n",
      "\n"
     ]
    }
   ],
   "source": [
    "my_map = (\n",
    "    df\n",
    "    .withColumn('create_map', F.create_map(F.col('DEST_COUNTRY_NAME'), F.col('count')))\n",
    ")\n",
    "\n",
    "my_map.show(2)"
   ]
  },
  {
   "cell_type": "code",
   "execution_count": 32,
   "metadata": {},
   "outputs": [
    {
     "name": "stdout",
     "output_type": "stream",
     "text": [
      "root\n",
      " |-- DEST_COUNTRY_NAME: string (nullable = true)\n",
      " |-- ORIGIN_COUNTRY_NAME: string (nullable = true)\n",
      " |-- count: long (nullable = true)\n",
      " |-- create_map: map (nullable = false)\n",
      " |    |-- key: string\n",
      " |    |-- value: long (valueContainsNull = true)\n",
      "\n"
     ]
    }
   ],
   "source": [
    "my_map.printSchema()"
   ]
  },
  {
   "cell_type": "code",
   "execution_count": 43,
   "metadata": {},
   "outputs": [
    {
     "name": "stdout",
     "output_type": "stream",
     "text": [
      "+---------------------+\n",
      "|my_map[United States]|\n",
      "+---------------------+\n",
      "|Romania              |\n",
      "|Croatia              |\n",
      "|Ireland              |\n",
      "|NULL                 |\n",
      "|India                |\n",
      "|Singapore            |\n",
      "|Grenada              |\n",
      "|NULL                 |\n",
      "|NULL                 |\n",
      "|NULL                 |\n",
      "+---------------------+\n",
      "only showing top 10 rows\n",
      "\n"
     ]
    }
   ],
   "source": [
    "# we can get values by key, like a normal dict.\n",
    "my_map_2 = (\n",
    "    df\n",
    "    .select(F.create_map(F.col('DEST_COUNTRY_NAME'), F.col('ORIGIN_COUNTRY_NAME')).alias('my_map'))\n",
    "    .selectExpr(\"my_map['United States']\")\n",
    "    )\n",
    "\n",
    "my_map_2.show(10, False)"
   ]
  },
  {
   "cell_type": "code",
   "execution_count": null,
   "metadata": {},
   "outputs": [],
   "source": []
  }
 ],
 "metadata": {
  "kernelspec": {
   "display_name": "venv",
   "language": "python",
   "name": "python3"
  },
  "language_info": {
   "codemirror_mode": {
    "name": "ipython",
    "version": 3
   },
   "file_extension": ".py",
   "mimetype": "text/x-python",
   "name": "python",
   "nbconvert_exporter": "python",
   "pygments_lexer": "ipython3",
   "version": "3.10.12"
  }
 },
 "nbformat": 4,
 "nbformat_minor": 2
}
