{
 "cells": [
  {
   "cell_type": "code",
   "execution_count": 1,
   "metadata": {},
   "outputs": [
    {
     "data": {
      "text/html": [
       "\n",
       "            <div>\n",
       "                <p><b>SparkSession - in-memory</b></p>\n",
       "                \n",
       "        <div>\n",
       "            <p><b>SparkContext</b></p>\n",
       "\n",
       "            <p><a href=\"http://WKWZTW3TDtg8tR3.global.publicisgroupe.net:4043\">Spark UI</a></p>\n",
       "\n",
       "            <dl>\n",
       "              <dt>Version</dt>\n",
       "                <dd><code>v3.4.1</code></dd>\n",
       "              <dt>Master</dt>\n",
       "                <dd><code>local[4]</code></dd>\n",
       "              <dt>AppName</dt>\n",
       "                <dd><code>example</code></dd>\n",
       "            </dl>\n",
       "        </div>\n",
       "        \n",
       "            </div>\n",
       "        "
      ],
      "text/plain": [
       "<pyspark.sql.session.SparkSession at 0x23874c25a10>"
      ]
     },
     "execution_count": 1,
     "metadata": {},
     "output_type": "execute_result"
    }
   ],
   "source": [
    "import findspark\n",
    "findspark.init(\"/spark\")\n",
    "\n",
    "from pyspark.sql import SparkSession\n",
    "\n",
    "spark = (\n",
    "    SparkSession\n",
    "    .builder\n",
    "    .master('local[4]')\n",
    "    .appName('example')\n",
    "    .getOrCreate()\n",
    ")\n",
    "\n",
    "spark"
   ]
  },
  {
   "cell_type": "code",
   "execution_count": 10,
   "metadata": {},
   "outputs": [
    {
     "name": "stdout",
     "output_type": "stream",
     "text": [
      "+-----------------------+---+\n",
      "|names                  |id |\n",
      "+-----------------------+---+\n",
      "|[john, sam, jane]      |1  |\n",
      "|[whiskers, rover, fido]|2  |\n",
      "|[whiskers, rover, fido]|3  |\n",
      "|[whiskers]             |4  |\n",
      "+-----------------------+---+\n",
      "\n"
     ]
    }
   ],
   "source": [
    "import pyspark.sql.functions as f\n",
    "data = [\n",
    "    (['john', 'sam', 'jane'], 1), \n",
    "    (['whiskers', 'rover', 'fido'], 2),\n",
    "    (['whiskers', 'rover', 'fido'], 3),\n",
    "    (['whiskers'], 4)\n",
    "    ]\n",
    "\n",
    "df = spark.createDataFrame(data, [\"names\", \"id\"])\n",
    "df.show(truncate=False)"
   ]
  },
  {
   "cell_type": "code",
   "execution_count": 8,
   "metadata": {},
   "outputs": [
    {
     "name": "stdout",
     "output_type": "stream",
     "text": [
      "root\n",
      " |-- names: array (nullable = true)\n",
      " |    |-- element: string (containsNull = true)\n",
      "\n"
     ]
    }
   ],
   "source": [
    "df.printSchema()"
   ]
  },
  {
   "cell_type": "code",
   "execution_count": 11,
   "metadata": {},
   "outputs": [],
   "source": [
    "from pyspark.ml.feature import CountVectorizer"
   ]
  },
  {
   "cell_type": "code",
   "execution_count": 18,
   "metadata": {},
   "outputs": [],
   "source": [
    "# Doc.\n",
    "# https://spark.apache.org/docs/latest/api/python/reference/api/pyspark.ml.feature.CountVectorizer.html\n",
    "\n",
    "# see tutorial:\n",
    "# https://towardsdatascience.com/countvectorizer-hashingtf-e66f169e2d4e\n",
    "\n",
    "cv = CountVectorizer(\n",
    "    inputCol=\"names\", \n",
    "    outputCol=\"features\", \n",
    "    vocabSize=300, # max size of the vocabulary\n",
    "    minDF=1.0 # cantidad minima de documentos en los que un token debe aparecer para ser considerado.\n",
    "    )"
   ]
  },
  {
   "cell_type": "code",
   "execution_count": 19,
   "metadata": {},
   "outputs": [
    {
     "name": "stdout",
     "output_type": "stream",
     "text": [
      "+-----------------------+---+-------------------------+\n",
      "|names                  |id |features                 |\n",
      "+-----------------------+---+-------------------------+\n",
      "|[john, sam, jane]      |1  |(6,[3,4,5],[1.0,1.0,1.0])|\n",
      "|[whiskers, rover, fido]|2  |(6,[0,1,2],[1.0,1.0,1.0])|\n",
      "|[whiskers, rover, fido]|3  |(6,[0,1,2],[1.0,1.0,1.0])|\n",
      "|[whiskers]             |4  |(6,[0],[1.0])            |\n",
      "+-----------------------+---+-------------------------+\n",
      "\n"
     ]
    }
   ],
   "source": [
    "model = cv.fit(df)\n",
    "\n",
    "result = model.transform(df)\n",
    "result.show(truncate=False)"
   ]
  },
  {
   "cell_type": "code",
   "execution_count": 20,
   "metadata": {},
   "outputs": [
    {
     "data": {
      "text/plain": [
       "['whiskers', 'fido', 'rover', 'sam', 'jane', 'john']"
      ]
     },
     "execution_count": 20,
     "metadata": {},
     "output_type": "execute_result"
    }
   ],
   "source": [
    "model.vocabulary"
   ]
  },
  {
   "cell_type": "code",
   "execution_count": 23,
   "metadata": {},
   "outputs": [
    {
     "data": {
      "text/plain": [
       "CountVectorizerModel: uid=CountVectorizer_dbccca9d33af, vocabularySize=6"
      ]
     },
     "execution_count": 23,
     "metadata": {},
     "output_type": "execute_result"
    }
   ],
   "source": [
    "model"
   ]
  }
 ],
 "metadata": {
  "kernelspec": {
   "display_name": "genv",
   "language": "python",
   "name": "python3"
  },
  "language_info": {
   "codemirror_mode": {
    "name": "ipython",
    "version": 3
   },
   "file_extension": ".py",
   "mimetype": "text/x-python",
   "name": "python",
   "nbconvert_exporter": "python",
   "pygments_lexer": "ipython3",
   "version": "3.11.4"
  }
 },
 "nbformat": 4,
 "nbformat_minor": 2
}
