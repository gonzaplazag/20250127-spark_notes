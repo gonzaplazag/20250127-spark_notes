{
 "cells": [
  {
   "cell_type": "markdown",
   "metadata": {},
   "source": [
    "# K-means in pyspark\n",
    "\n",
    "* Se implementa K-means en pyspark\n",
    "* Se calculan métricas de decision y evaluación de kmeans\n",
    "\n",
    "### Referencias\n",
    "Ref-1: Pramod (2022). Ch. 8."
   ]
  },
  {
   "cell_type": "code",
   "execution_count": 5,
   "metadata": {},
   "outputs": [],
   "source": [
    "# for saving dataset from internet\n",
    "\n",
    "#import pandas as pd\n",
    "#data = pd.read_csv(\"https://raw.githubusercontent.com/Apress/machine-learning-with-pyspark/master/chapter_7_Clustering/iris_dataset.csv\")\n",
    "#data.to_csv(\"/home/walter/Documents/serie-notas/z_data/20221004_iris_data_again/data.csv\", index=False)"
   ]
  },
  {
   "cell_type": "code",
   "execution_count": 6,
   "metadata": {},
   "outputs": [
    {
     "name": "stderr",
     "output_type": "stream",
     "text": [
      "22/10/04 05:58:39 WARN Utils: Your hostname, notebook resolves to a loopback address: 127.0.1.1; using 192.168.0.18 instead (on interface wlp9s0)\n",
      "22/10/04 05:58:39 WARN Utils: Set SPARK_LOCAL_IP if you need to bind to another address\n",
      "WARNING: An illegal reflective access operation has occurred\n",
      "WARNING: Illegal reflective access by org.apache.spark.unsafe.Platform (file:/opt/spark-3.0.3/jars/spark-unsafe_2.12-3.0.3.jar) to constructor java.nio.DirectByteBuffer(long,int)\n",
      "WARNING: Please consider reporting this to the maintainers of org.apache.spark.unsafe.Platform\n",
      "WARNING: Use --illegal-access=warn to enable warnings of further illegal reflective access operations\n",
      "WARNING: All illegal access operations will be denied in a future release\n",
      "22/10/04 05:58:40 WARN NativeCodeLoader: Unable to load native-hadoop library for your platform... using builtin-java classes where applicable\n",
      "Using Spark's default log4j profile: org/apache/spark/log4j-defaults.properties\n",
      "Setting default log level to \"WARN\".\n",
      "To adjust logging level use sc.setLogLevel(newLevel). For SparkR, use setLogLevel(newLevel).\n",
      "22/10/04 05:58:40 WARN Utils: Service 'SparkUI' could not bind on port 4040. Attempting port 4041.\n"
     ]
    },
    {
     "data": {
      "text/html": [
       "\n",
       "            <div>\n",
       "                <p><b>SparkSession - in-memory</b></p>\n",
       "                \n",
       "        <div>\n",
       "            <p><b>SparkContext</b></p>\n",
       "\n",
       "            <p><a href=\"http://192.168.0.18:4041\">Spark UI</a></p>\n",
       "\n",
       "            <dl>\n",
       "              <dt>Version</dt>\n",
       "                <dd><code>v3.0.3</code></dd>\n",
       "              <dt>Master</dt>\n",
       "                <dd><code>local[4]</code></dd>\n",
       "              <dt>AppName</dt>\n",
       "                <dd><code>Kmeans</code></dd>\n",
       "            </dl>\n",
       "        </div>\n",
       "        \n",
       "            </div>\n",
       "        "
      ],
      "text/plain": [
       "<pyspark.sql.session.SparkSession at 0x7fbcfc3d2100>"
      ]
     },
     "execution_count": 6,
     "metadata": {},
     "output_type": "execute_result"
    }
   ],
   "source": [
    "from pyspark.sql import SparkSession\n",
    "\n",
    "spark = (\n",
    "    SparkSession\n",
    "    .builder\n",
    "    .master('local[4]')\n",
    "    .appName('Kmeans')\n",
    "    .getOrCreate()\n",
    ")\n",
    "\n",
    "spark"
   ]
  },
  {
   "cell_type": "markdown",
   "metadata": {},
   "source": [
    "# Load"
   ]
  },
  {
   "cell_type": "code",
   "execution_count": 8,
   "metadata": {},
   "outputs": [
    {
     "name": "stdout",
     "output_type": "stream",
     "text": [
      "+------------+-----------+------------+-----------+-------+\n",
      "|sepal_length|sepal_width|petal_length|petal_width|species|\n",
      "+------------+-----------+------------+-----------+-------+\n",
      "|5.1         |3.5        |1.4         |0.2        |setosa |\n",
      "|4.9         |3.0        |1.4         |0.2        |setosa |\n",
      "|4.7         |3.2        |1.3         |0.2        |setosa |\n",
      "|4.6         |3.1        |1.5         |0.2        |setosa |\n",
      "|5.0         |3.6        |1.4         |0.2        |setosa |\n",
      "+------------+-----------+------------+-----------+-------+\n",
      "only showing top 5 rows\n",
      "\n"
     ]
    }
   ],
   "source": [
    "df = spark.read.csv(\"/home/walter/Documents/serie-notas/z_data/20221004_iris_data_again/data.csv\", header=True)\n",
    "df.show(5, False)"
   ]
  },
  {
   "cell_type": "markdown",
   "metadata": {},
   "source": [
    "# Exploratory"
   ]
  },
  {
   "cell_type": "code",
   "execution_count": 9,
   "metadata": {},
   "outputs": [
    {
     "name": "stdout",
     "output_type": "stream",
     "text": [
      "150 5\n"
     ]
    }
   ],
   "source": [
    "# sizing\n",
    "print(df.count(), len(df.columns))"
   ]
  },
  {
   "cell_type": "code",
   "execution_count": 11,
   "metadata": {},
   "outputs": [
    {
     "name": "stdout",
     "output_type": "stream",
     "text": [
      "root\n",
      " |-- sepal_length: string (nullable = true)\n",
      " |-- sepal_width: string (nullable = true)\n",
      " |-- petal_length: string (nullable = true)\n",
      " |-- petal_width: string (nullable = true)\n",
      " |-- species: string (nullable = true)\n",
      "\n"
     ]
    }
   ],
   "source": [
    "# Schema\n",
    "df.printSchema()"
   ]
  },
  {
   "cell_type": "code",
   "execution_count": 12,
   "metadata": {},
   "outputs": [
    {
     "name": "stdout",
     "output_type": "stream",
     "text": [
      "+----------+-----+\n",
      "|   species|count|\n",
      "+----------+-----+\n",
      "| virginica|   50|\n",
      "|versicolor|   50|\n",
      "|    setosa|   50|\n",
      "+----------+-----+\n",
      "\n"
     ]
    }
   ],
   "source": [
    "# validate class balance\n",
    "df.groupBy('species').count().show()"
   ]
  },
  {
   "cell_type": "markdown",
   "metadata": {},
   "source": [
    "# Preprocessing"
   ]
  },
  {
   "cell_type": "code",
   "execution_count": 13,
   "metadata": {},
   "outputs": [],
   "source": [
    "from pyspark.sql.types import FloatType\n",
    "\n",
    "def recast_to_float(df, cols):\n",
    "    res = df\n",
    "    for c in cols:\n",
    "        res = res.withColumn(c, res[c].cast(FloatType()))\n",
    "\n",
    "    return res"
   ]
  },
  {
   "cell_type": "code",
   "execution_count": 18,
   "metadata": {},
   "outputs": [
    {
     "name": "stdout",
     "output_type": "stream",
     "text": [
      "root\n",
      " |-- sepal_length: float (nullable = true)\n",
      " |-- sepal_width: float (nullable = true)\n",
      " |-- petal_length: float (nullable = true)\n",
      " |-- petal_width: float (nullable = true)\n",
      " |-- label: string (nullable = true)\n",
      "\n"
     ]
    }
   ],
   "source": [
    "# recast to float\n",
    "float_cols = ['sepal_length', 'sepal_width', 'petal_length', 'petal_width']\n",
    "\n",
    "df = recast_to_float(df, float_cols)\n",
    "\n",
    "# rename label\n",
    "df = df.withColumnRenamed('species', 'label')\n",
    "\n",
    "df.printSchema()"
   ]
  },
  {
   "cell_type": "markdown",
   "metadata": {},
   "source": [
    "# Preprocessing for modeling "
   ]
  },
  {
   "cell_type": "code",
   "execution_count": 19,
   "metadata": {},
   "outputs": [
    {
     "name": "stdout",
     "output_type": "stream",
     "text": [
      "+----------------------------------------------------------------------------+------+\n",
      "|features                                                                    |label |\n",
      "+----------------------------------------------------------------------------+------+\n",
      "|[5.099999904632568,3.5,1.399999976158142,0.20000000298023224]               |setosa|\n",
      "|[4.900000095367432,3.0,1.399999976158142,0.20000000298023224]               |setosa|\n",
      "|[4.699999809265137,3.200000047683716,1.2999999523162842,0.20000000298023224]|setosa|\n",
      "|[4.599999904632568,3.0999999046325684,1.5,0.20000000298023224]              |setosa|\n",
      "|[5.0,3.5999999046325684,1.399999976158142,0.20000000298023224]              |setosa|\n",
      "+----------------------------------------------------------------------------+------+\n",
      "only showing top 5 rows\n",
      "\n"
     ]
    }
   ],
   "source": [
    "from pyspark.ml.feature import VectorAssembler\n",
    "\n",
    "features = ['sepal_length', 'sepal_width', 'petal_length', 'petal_width']\n",
    "\n",
    "vec_assembler = VectorAssembler(inputCols=features, outputCol='features')\n",
    "features_df = vec_assembler.transform(df)\n",
    "model_df = features_df.select('features', 'label')\n",
    "model_df.show(5, False)\n",
    "\n",
    "# Aquí faltó normalizar!!!"
   ]
  },
  {
   "cell_type": "markdown",
   "metadata": {},
   "source": [
    "# Modeling"
   ]
  },
  {
   "cell_type": "code",
   "execution_count": 34,
   "metadata": {},
   "outputs": [],
   "source": [
    "from pyspark.ml.clustering import KMeans\n",
    "from pyspark.ml.evaluation import ClusteringEvaluator # para silhouette\n",
    "import matplotlib.pyplot as plt\n",
    "\n",
    "# defino función de inercia para decidir k\n",
    "# Esta función es la clave del ejercicio!\n",
    "def kmeans_metrics(df, k_max):\n",
    "    '''\n",
    "    Calculo la inercia y silhouette score del problema en el rango k = [2, k_max - 1]\n",
    "    '''\n",
    "    errors = []\n",
    "    sil_score = []\n",
    "\n",
    "    for k in range(2,k_max):\n",
    "        kmeans = KMeans(featuresCol='features', k=k)\n",
    "        model = kmeans.fit(df)\n",
    "        intra_distance = model.summary.trainingCost\n",
    "        errors.append(intra_distance)\n",
    "\n",
    "        predictions = model.transform(df)\n",
    "        evaluator = ClusteringEvaluator()\n",
    "        sil = evaluator.evaluate(predictions)\n",
    "        sil_score.append(sil)\n",
    "\n",
    "    return errors, sil_score\n"
   ]
  },
  {
   "cell_type": "code",
   "execution_count": 35,
   "metadata": {},
   "outputs": [],
   "source": [
    "list_inertia, sil_score = kmeans_metrics(model_df, 10)"
   ]
  },
  {
   "cell_type": "code",
   "execution_count": 36,
   "metadata": {},
   "outputs": [
    {
     "data": {
      "image/png": "[encoded data removed]",
      "text/plain": [
       "<Figure size 432x288 with 1 Axes>"
      ]
     },
     "metadata": {
      "needs_background": "light"
     },
     "output_type": "display_data"
    }
   ],
   "source": [
    "plt.plot(range(2,10), list_inertia)\n",
    "plt.show()\n",
    "# se pueden tomar 3 o 5 clusters"
   ]
  },
  {
   "cell_type": "code",
   "execution_count": 39,
   "metadata": {},
   "outputs": [
    {
     "data": {
      "image/png": "[encoded data removed]",
      "text/plain": [
       "<Figure size 432x288 with 1 Axes>"
      ]
     },
     "metadata": {
      "needs_background": "light"
     },
     "output_type": "display_data"
    }
   ],
   "source": [
    "plt.plot(range(2,10), sil_score)\n",
    "plt.show()\n",
    "# sil me asegura que los valores de sil para k=3 son mejores que para k=5. Decido K=3"
   ]
  },
  {
   "cell_type": "code",
   "execution_count": 43,
   "metadata": {},
   "outputs": [
    {
     "name": "stdout",
     "output_type": "stream",
     "text": [
      "+----------------------------------------------------------------------------+------+----------+\n",
      "|features                                                                    |label |prediction|\n",
      "+----------------------------------------------------------------------------+------+----------+\n",
      "|[5.099999904632568,3.5,1.399999976158142,0.20000000298023224]               |setosa|1         |\n",
      "|[4.900000095367432,3.0,1.399999976158142,0.20000000298023224]               |setosa|1         |\n",
      "|[4.699999809265137,3.200000047683716,1.2999999523162842,0.20000000298023224]|setosa|1         |\n",
      "|[4.599999904632568,3.0999999046325684,1.5,0.20000000298023224]              |setosa|1         |\n",
      "|[5.0,3.5999999046325684,1.399999976158142,0.20000000298023224]              |setosa|1         |\n",
      "+----------------------------------------------------------------------------+------+----------+\n",
      "only showing top 5 rows\n",
      "\n"
     ]
    }
   ],
   "source": [
    "# model\n",
    "kmeans = KMeans(featuresCol='features', k=3)\n",
    "model = kmeans.fit(model_df)\n",
    "res = model.transform(model_df)\n",
    "res.show(5, False)"
   ]
  },
  {
   "cell_type": "code",
   "execution_count": 44,
   "metadata": {},
   "outputs": [
    {
     "name": "stdout",
     "output_type": "stream",
     "text": [
      "+----------+----------+-----+\n",
      "|     label|prediction|count|\n",
      "+----------+----------+-----+\n",
      "| virginica|         2|   36|\n",
      "| virginica|         0|   14|\n",
      "|versicolor|         0|   47|\n",
      "|    setosa|         1|   50|\n",
      "|versicolor|         2|    3|\n",
      "+----------+----------+-----+\n",
      "\n"
     ]
    }
   ],
   "source": [
    "# aquí se puede evaluar como anda el algoritmo respecto a un gt.\n",
    "# igual esto no es supervisado.\n",
    "res.groupBy('label', 'prediction').count().show()"
   ]
  }
 ],
 "metadata": {
  "kernelspec": {
   "display_name": "Python 3.9.7 ('pyspark_1')",
   "language": "python",
   "name": "python3"
  },
  "language_info": {
   "codemirror_mode": {
    "name": "ipython",
    "version": 3
   },
   "file_extension": ".py",
   "mimetype": "text/x-python",
   "name": "python",
   "nbconvert_exporter": "python",
   "pygments_lexer": "ipython3",
   "version": "3.9.7"
  },
  "orig_nbformat": 4,
  "vscode": {
   "interpreter": {
    "hash": "d71b34f375d735c8be32cbc17abc1cbe1b4bf3a9e7c70028bca9490fccc04562"
   }
  }
 },
 "nbformat": 4,
 "nbformat_minor": 2
}
